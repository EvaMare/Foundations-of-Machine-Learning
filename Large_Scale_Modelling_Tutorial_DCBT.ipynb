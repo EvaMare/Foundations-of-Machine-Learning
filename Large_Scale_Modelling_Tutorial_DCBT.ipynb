{
  "cells": [
    {
      "cell_type": "markdown",
      "metadata": {
        "id": "view-in-github",
        "colab_type": "text"
      },
      "source": [
        "<a href=\"https://colab.research.google.com/github/EvaMare/Foundations-of-Machine-Learning/blob/main/Large_Scale_Modelling_Tutorial_DCBT.ipynb\" target=\"_parent\"><img src=\"https://colab.research.google.com/assets/colab-badge.svg\" alt=\"Open In Colab\"/></a>"
      ]
    },
    {
      "cell_type": "markdown",
      "metadata": {
        "id": "hBvWCMeH4BOo"
      },
      "source": [
        "#Large-Scale Modeling of Brain Dynamics\n",
        "## DCBT 2022\n",
        "\n",
        "__Content creator:__ Francisco Santos (f.pascoadossantos@gmail.com)\n"
      ]
    },
    {
      "cell_type": "markdown",
      "metadata": {
        "id": "Xf5dSGhd4eCV"
      },
      "source": [
        "# Introduction\n",
        "\n",
        "Computational modeling is a powerful tool for the exploration of neural dynamics, allowing for a more direct analysis and easier parameter manipulation than physiological studies. One can achieve this by applying mathematic concepts to the description neural dynamics at different scales, from the molecular and synaptic level to modeling of large-scale activity. The later relies on the assumption that the activities of individual neurons are generally uncorrelated, meaning that the ensemble activity can be reduced to its mean and variance. This mean-field approach can be extremely useful in computational neuroscience by allowing for the modeling of large-scale dynamics at a higher level of abstraction which is more computationally viable and tractable. That said, in the past years, large-scale modeling of the human brain has helped advance our knowledge about how cortical areas interact to form networks that are important for a range of cognitive processes.\n",
        "A comprehensive review on large-scale neural models can be consulted in https://www.nature.com/articles/nn.4497.\n",
        "\n",
        "$$$$\n",
        "\n",
        "In this tutorial, we will learn the fundamentals of neural-mass models, how to mainpulate their parameters to show different behaviors and how to simulate neural dynamics with networks of coupled neural masses. In addition, we will look at human whole-brain models, where nodes are connected with structural data from the human brain.\n",
        "Finally, we will generate BOLD timeseris from our model and calculate functional connectivity. We will also compare functional connectivity in a healthy vs lesioned connectome.\n",
        "\n",
        "This notebook is meant to accompany a Gala Tutorial, which can be consulted at: https://www.learngala.com/cases/large-scale-brain-dynamics-modelling.\n",
        "In addition, the slides used for the DCBT2022 tutorial, will be available upon request."
      ]
    },
    {
      "cell_type": "code",
      "execution_count": null,
      "metadata": {
        "id": "McCZZ7QcKjwc"
      },
      "outputs": [],
      "source": [
        "# @title Run this cell to import required modules\n",
        "\n",
        "!pip install networkx --quiet\n",
        "!pip install tqdm --quiet\n",
        "!pip install nilearn --quiet\n",
        "\n",
        "import numpy as np\n",
        "import scipy.signal as sig\n",
        "import matplotlib.pyplot as plt\n",
        "import networkx as nx\n",
        "import gdown\n",
        "import ipywidgets as widgets\n",
        "\n",
        "from google.colab import files\n",
        "from tqdm.notebook import tqdm\n",
        "from sklearn.linear_model import LinearRegression\n",
        "from nilearn import plotting"
      ]
    },
    {
      "cell_type": "code",
      "execution_count": null,
      "metadata": {
        "id": "SNpb3ITxKlPo"
      },
      "outputs": [],
      "source": [
        "# @title Functions\n",
        "\n",
        "# Auxiliary Functions\n",
        "\n",
        "def load_connectivity():\n",
        "\n",
        "  ## Connectivity matrix ##\n",
        "\n",
        "  # Define the remote file to retrieve\n",
        "  remote_url = 'https://drive.google.com/uc?id=1tkwQbpl0-PYwasci1Z_ClRWwe7ZlM1vz'\n",
        "  # Define the local filename to save data\n",
        "  local_file = 'SC_AAL78.npy'\n",
        "  # Make http request for remote file data\n",
        "  gdown.download(remote_url, local_file, quiet = True)\n",
        "\n",
        "  # Gets connectivity information\n",
        "  connect = np.load('SC_AAL78.npy')\n",
        "\n",
        "  ## Coordinates ##\n",
        "\n",
        "  # Define the remote file to retrieve\n",
        "  remote_url = 'https://drive.google.com/uc?id=1U-sUjSEt2e3cCz6VWnNbccDVv_aBYRkJ'\n",
        "  # Define the local filename to save data\n",
        "  local_file = 'AAL78_coords.npy'\n",
        "  # Make http request for remote file data\n",
        "  gdown.download(remote_url, local_file, quiet = True)\n",
        "\n",
        "  # Gets coordinate information\n",
        "  coords = np.load('AAL78_coords.npy')\n",
        "\n",
        "  ## Connectome labels ##\n",
        "\n",
        "  # Define the remote file to retrieve\n",
        "  remote_url = 'https://drive.google.com/uc?id=1E_s6tNXlKSfkD2gTD4cQAhSxl6LjM5nj'\n",
        "  # Define the local filename to save data\n",
        "  local_file = 'labels.npy'\n",
        "  # Make http request for remote file data\n",
        "  gdown.download(remote_url, local_file, quiet = True)\n",
        "\n",
        "  # Gets coordinate information\n",
        "  labels = np.load('labels.npy')\n",
        "\n",
        "  # This sorts connectivity so that nodes are grouped by hemisphere\n",
        "  order = np.concatenate((np.arange(0, 78, 2), np.arange(1, 78, 2)))\n",
        "\n",
        "  connect = np.array([[connect[i][j] for j in order] for i in order])\n",
        "  coords = np.array([coords[i] for i in order])\n",
        "  labels = np.array([labels[i] for i in order])\n",
        "\n",
        "  return connect, coords, labels\n",
        "\n",
        "def default_parameters(**kwargs):\n",
        "  pars = {}\n",
        "\n",
        "  # Activation function parameters\n",
        "  pars['F_max'] = 1 # maximum activation\n",
        "  pars['mu'] = 1 # activation threshold\n",
        "  pars['sigma'] = 0.25 # activation function slope\n",
        "\n",
        "  # Time constants for both populations\n",
        "  pars['tau_E'] = 2.5 # (ms) Excitatory time constant (tuned to gamma oscillations)\n",
        "  pars['tau_I'] = 5 # (ms) Inhibitory time constant\n",
        "\n",
        "  # Standard deviation of additive noise\n",
        "  pars['sd_noise'] = 0.01\n",
        "\n",
        "  # Couplings from excitatory to inhibitory population\n",
        "  pars['cEE'] = 3.5 # E->E coupling\n",
        "  pars['cIE'] = 3.75 # E->I coupling\n",
        "  pars['cEI'] = 2.5 # I->E coupling\n",
        "\n",
        "  # Parameter to control excitability of excitatory population\n",
        "  pars['P'] = 0.31 # Defined to put the node at the transition between stable and oscillatory activity\n",
        "\n",
        "  # External parameters if any\n",
        "  pars.update(kwargs)\n",
        "\n",
        "  return pars\n",
        "\n",
        "def pulse(I, t_start, t_end, T, dt):\n",
        "\n",
        "  I_vec = np.zeros(int(np.floor(T/dt)))\n",
        "  I_vec[int(np.floor(t_start/dt)):int(np.floor(t_end/dt))] = I\n",
        "\n",
        "  return I_vec\n",
        "\n",
        "def balloon(signals, dt):\n",
        "\n",
        "  '''\n",
        "  Implementation of Balloon-Windkessel model for hemodynamics,\n",
        "  as implemented by Deco et al. 2009 PNAS. Takes firing-rate activity from\n",
        "  model and transforms it into a simulated BOLD fMRI signal\n",
        "\n",
        "  Args:\n",
        "    signals (array): array with shape [node, sample] containing model activity\n",
        "    dt (float): time step of original signal (ms)\n",
        "\n",
        "  Returns:\n",
        "    BOLD (array): simulated BOLD signal for all nodes [node, sample]\n",
        "  '''\n",
        "\n",
        "  print('Applying Balloon-Windkessel Model...')\n",
        "\n",
        "  BOLD = np.zeros(np.shape(signals))\n",
        "\n",
        "  k = 0.65 # [1/s] rate of signal decay\n",
        "  gamma = 0.41  # [1/s] rate of flow-dependent elimination\n",
        "  tau = 0.98 # [s] hemodynamic transit time\n",
        "  alpha = 0.32 # Grubbs exponent\n",
        "  rho = 0.34 # resting oxygen extraction fraction\n",
        "  V0 = 0.02 # resting blood volume fraction\n",
        "  dt = dt / 1000 # [s]\n",
        "\n",
        "  n = np.shape(signals)[0]\n",
        "\n",
        "  curr_s = 1e-10 * np.ones((1, n))\n",
        "  curr_f = 1e-10 * np.ones((1, n))\n",
        "  curr_v = 1e-10 * np.ones((1, n))\n",
        "  curr_q = 1e-10 * np.ones((1, n))\n",
        "\n",
        "  for i in tqdm(range(1, np.shape(signals)[1])):\n",
        "\n",
        "    new_q = curr_q + dt * (1/tau) * (curr_f/rho * (1-np.power((1-rho), (1/curr_f))) - np.power(curr_v, (1/alpha) - 1) * curr_q)\n",
        "\n",
        "    new_v = curr_v + dt * (1/tau) * (curr_f - np.power(curr_v, 1/alpha))\n",
        "\n",
        "    new_f = curr_f + dt * curr_s\n",
        "\n",
        "    new_s = curr_s + dt * (np.reshape(signals[:, i-1].copy(), (1, n)) - k * curr_s - gamma*(curr_f - 1))\n",
        "\n",
        "    y = V0 * (7*rho*(1-curr_q) + 2*(1-np.divide(curr_q, curr_v)) + (2*rho-0.2)*(1 - curr_v))\n",
        "\n",
        "    curr_q = new_q\n",
        "    curr_v = new_v\n",
        "    curr_f = new_f\n",
        "    curr_s = new_s\n",
        "\n",
        "    BOLD[:, i] = np.reshape(y, (n))\n",
        "\n",
        "  return BOLD\n",
        "\n",
        "\n",
        "def bold_rs_pipeline(bold_sig, dt, fs):\n",
        "\n",
        "  '''\n",
        "  Takes np.array of BOLD signals with shape [node, step] and treats it for FC analysis.\n",
        "  Pipeline based on Cabral et al. 2011 Neuroimage and Deco et al 2021 Science Advances\n",
        "\n",
        "  Args:\n",
        "    bold_sig (array): array with shape [time step, node] containing BOLD signals for all nodes\n",
        "    dt (float): time step of original signal (ms)\n",
        "  Returns:\n",
        "    processed_sig (array): resampled bold signal\n",
        "  '''\n",
        "\n",
        "  ns = bold_sig.shape[-1]\n",
        "  frs = 1/(0.72)\n",
        "  fs = 1e3/dt\n",
        "  nrs = int(fs/frs)\n",
        "  bdr = int(60 * fs) # Time to remove at the beginning and end of signal, to avoid boundary effects from the Balloon-Windkessel model\n",
        "\n",
        "  n_samples = int(frs * (bold_sig.shape[-1] - 2 * bdr) / fs)\n",
        "  treated_sig = np.zeros((bold_sig.shape[0], n_samples))\n",
        "\n",
        "  for n in range(bold_sig.shape[0]):\n",
        "      treated_sig[n, :] = sig.resample(bold_sig[n, bdr:-bdr], n_samples)\n",
        "      treated_sig[n, :] -= np.mean(treated_sig[n, :])\n",
        "\n",
        "  return treated_sig\n",
        "\n",
        "def bold_FC_pipeline(bold_sig, dt, fs):\n",
        "\n",
        "  '''\n",
        "  Takes np.array of BOLD signals with shape [node, step] and treats it for FC analysis.\n",
        "  Pipeline based on Cabral et al. 2011 Neuroimage and Deco et al 2021 Science Advances\n",
        "\n",
        "  Args:\n",
        "    bold_sig (array): array with shape [time step, node] containing BOLD signals for all nodes\n",
        "    dt (float): time step of original signal (ms)\n",
        "  Returns:\n",
        "    processed_sig (array): resampled bold signal\n",
        "  '''\n",
        "\n",
        "  ns = bold_sig.shape[-1]\n",
        "  frs = 1/(0.72)\n",
        "  fs = 1e3/dt\n",
        "  nrs = int(fs/frs)\n",
        "  bdr = int(60 * fs) # Time to remove at the beginning and end of signal, to avoid boundary effects from the Balloon-Windkessel model\n",
        "\n",
        "  n_samples = int(frs * (bold_sig.shape[-1] - 2 * bdr) / fs)\n",
        "  treated_sig = np.zeros((bold_sig.shape[0], n_samples))\n",
        "\n",
        "  for n in range(bold_sig.shape[0]):\n",
        "      treated_sig[n, :] = sig.resample(bold_sig[n, bdr:-bdr], n_samples)\n",
        "\n",
        "  b, a = sig.butter(2, [0.008, 0.08], btype = 'band', output = 'ba', fs = frs)\n",
        "\n",
        "  treated_sig = sig.filtfilt(b, a, treated_sig, axis = -1)\n",
        "\n",
        "  return treated_sig\n",
        "\n",
        "def plot_BOLD(BOLD, n = 10, fs = 0.5):\n",
        "\n",
        "  '''\n",
        "  Plots BOLD signal for first n nodes.\n",
        "\n",
        "  Args:\n",
        "    BOLD (array): processed BOLD signal with shape [node, sample]\n",
        "    T_sig (float): duration of recording\n",
        "    n (int): number of nodes to be shown\n",
        "    fs (float): sampling frequency of signal\n",
        "  '''\n",
        "\n",
        "  plt.figure(figsize=(12, 6))\n",
        "  plt.plot(np.arange(0, BOLD.shape[-1])/fs, BOLD[:n, :].T + np.r_[:n], color = 'k')\n",
        "  for i in range(n):\n",
        "    plt.axhline(y = i, color = 'k', alpha = 0.4)\n",
        "  plt.yticks([i for i in range(n)], ['Node {}'.format(i) for i in range(n)], fontsize = 14)\n",
        "  plt.xlabel('Time (s)', fontsize = 14)\n",
        "  plt.ylim([-1, n])\n",
        "  plt.title('BOLD Signal', fontsize = 14)\n",
        "  plt.tight_layout()\n",
        "  plt.show()\n",
        "\n",
        "def plot_BOLD_standardized(BOLD, n = 10, fs = 0.5):\n",
        "\n",
        "  '''\n",
        "  Plots BOLD signal for first n nodes.\n",
        "\n",
        "  Args:\n",
        "    BOLD (array): processed BOLD signal with shape [node, sample]\n",
        "    T_sig (float): duration of recording\n",
        "    n (int): number of nodes to be shown\n",
        "    fs (float): sampling frequency of signal\n",
        "  '''\n",
        "\n",
        "  BOLD_norm = BOLD.copy()\n",
        "  for i in range(BOLD.shape[0]):\n",
        "    BOLD_norm[i, :] = (BOLD[i, :] - np.mean(BOLD[i, :])) / np.std(BOLD[i, :])\n",
        "\n",
        "  plt.figure(figsize=(12, 6))\n",
        "  plt.plot(np.arange(0, BOLD_norm.shape[-1])/fs, BOLD_norm[:n, :].T / 3 + np.r_[:n], color = 'k')\n",
        "  for i in range(n):\n",
        "    plt.axhline(y = i, color = 'k', alpha = 0.4)\n",
        "  plt.yticks([i for i in range(n)], ['Node {}'.format(i) for i in range(n)], fontsize = 14)\n",
        "  plt.xlabel('Time (s)', fontsize = 14)\n",
        "  plt.ylim([-1, n])\n",
        "  plt.title('BOLD Signal - Standardized', fontsize = 14)\n",
        "  plt.tight_layout()\n",
        "  plt.show()"
      ]
    },
    {
      "cell_type": "code",
      "source": [],
      "metadata": {
        "id": "798H-aaa0xCf"
      },
      "execution_count": null,
      "outputs": []
    },
    {
      "cell_type": "markdown",
      "metadata": {
        "id": "Qb4rGy3q8Ior"
      },
      "source": [
        "# Neural Mass Dynamics"
      ]
    },
    {
      "cell_type": "markdown",
      "metadata": {
        "id": "qCeMu8H3EAAs"
      },
      "source": [
        "## Activation Function"
      ]
    },
    {
      "cell_type": "markdown",
      "metadata": {
        "id": "lzW2ybMuBujr"
      },
      "source": [
        "Neural mass dynamics are commonly modeled as systems of differential equations similar to the one below. $r$ represents the population firing rate, $x$ the external input and $\\tau$ a constant that describes the timescale of changes in activity.\n",
        "\n",
        "$$ \\tau\\frac{dr(t)}{dt} = -r(t) + F(x)  \\ \\ \\ \\ \\ \\ \\ \\ \\ \\ \\ \\ \\ \\ \\ \\ \\ \\ \\ \\ \\ \\ \\ \\ \\ \\ (1)$$\n",
        "\n",
        "F(I), often called **activation function**, is a function that represents how the neural population reacts to external inputs. Most neural mass models use sigmoid (or similar) activation functions. In this case, our sigmoid function has the form:\n",
        "\n",
        "$$ F(x) = \\frac{F_{max}}{1+e^{-\\frac{x-\\mu}{\\sigma}}} \\ \\ \\ \\ \\ \\ \\ \\ \\ \\ \\ \\ \\ \\ \\ \\ \\ \\ \\ \\ \\ \\ \\ \\ \\ \\ \\ \\ \\ \\ \\ \\ \\ \\ (2)$$\n",
        "\n",
        "In this block, we will build an implementation of $F(x)$ and explore what we can change by manipulating its parameters."
      ]
    },
    {
      "cell_type": "markdown",
      "metadata": {
        "id": "RpasPiK-8544"
      },
      "source": [
        "**Exercise 1**"
      ]
    },
    {
      "cell_type": "code",
      "execution_count": null,
      "metadata": {
        "colab": {
          "background_save": true
        },
        "id": "Fvp6NYl__GRA"
      },
      "outputs": [],
      "source": [
        "def F(x, F_max, mu, sigma):\n",
        "    \"\"\"\n",
        "    Population activation function.\n",
        "\n",
        "    Args:\n",
        "      x (float): external input\n",
        "      F_max (float): the gain of the function\n",
        "      mu (float): activation threshold\n",
        "      sigma (float): the threshold of the function\n",
        "\n",
        "    Returns:\n",
        "      float: the population activation response F(x) for input x\n",
        "    \"\"\"\n",
        "    #################################################\n",
        "    # Fill out f = ... and comment the following line\n",
        "    # Hint: you can use the numpy function np.exp() to compute an exponential function.\n",
        "    #  NotImplementedError(\"Please complete coding exercise\")\n",
        "    #################################################\n",
        "\n",
        "    f = F_max/(1+np.exp(-(x-mu)/sigma))\n",
        "\n",
        "    return f"
      ]
    },
    {
      "cell_type": "code",
      "execution_count": null,
      "metadata": {
        "colab": {
          "background_save": true
        },
        "id": "_6CdIofB8JsK"
      },
      "outputs": [],
      "source": [
        "# @markdown Code solution (click \"show code\" to copy)\n",
        "\n",
        "# Copy the solution below\n",
        "\n",
        "# f = F_max / (1 + np.exp(-(x - mu)/sigma))"
      ]
    },
    {
      "cell_type": "code",
      "execution_count": null,
      "metadata": {
        "colab": {
          "background_save": true
        },
        "id": "jAQ1hzmlEvWZ"
      },
      "outputs": [],
      "source": [
        "# @markdown Execute this cell to enable the widget!\n",
        "# @markdown Play around with the sliders and explore the following questions:\n",
        "\n",
        "# @markdown 1. What characteristics of the activation function can you vary by\n",
        "# @markdown changing each parameter?\n",
        "\n",
        "# @markdown 2. How do you think each parameter impacts population dynamics?\n",
        "\n",
        "\n",
        "def F_exploration(F_max = 1, mu = 1, sigma = 0.25):\n",
        "\n",
        "  pars = default_parameters()  # get default parameters\n",
        "  x = np.arange(-1, 3, .01)      # set the range of input\n",
        "\n",
        "  plt.figure(figsize=(15, 8))\n",
        "\n",
        "  f = F(x, pars['F_max'], pars['mu'], pars['sigma'])\n",
        "  plt.plot(x, f, linewidth = 4)\n",
        "  f = F(x, F_max, pars['mu'], pars['sigma'])\n",
        "  plt.plot(x, f, '--', alpha = 0.5, linewidth = 4)\n",
        "  f = F(x, pars['F_max'], mu, pars['sigma'])\n",
        "  plt.plot(x, f, '--', alpha = 0.5, linewidth = 4)\n",
        "  f = F(x, pars['F_max'], pars['mu'], sigma)\n",
        "  plt.plot(x, f, '--', alpha = 0.5, linewidth = 4)\n",
        "\n",
        "  plt.legend(['Default', \"$F_m$ = {}\".format(F_max), '$\\mu = ${}'.format(mu), '$\\sigma = ${}'.format(sigma)], fontsize = 14)\n",
        "  plt.xlabel('x (a.u.)', fontsize=14)\n",
        "  plt.ylabel('F(x)', fontsize=14)\n",
        "  plt.show()\n",
        "\n",
        "_ = widgets.interact(F_exploration, F_max=(0.1, 2, 0.1), mu = (0.1, 2, 0.1), sigma = (0.05, 0.5, 0.05))"
      ]
    },
    {
      "cell_type": "markdown",
      "metadata": {
        "id": "6UlEBUKIFNV8"
      },
      "source": [
        "## Single Population Dynamics"
      ]
    },
    {
      "cell_type": "markdown",
      "metadata": {
        "id": "7z75S_AMb9x6"
      },
      "source": [
        "In this block, we will implement single population dynamics by using the following description and the $F(x)$ function we defined before.\n",
        "\n",
        "$$ \\tau\\frac{dr(t)}{dt} = -r(t) + F(I_{ext}(t))  \\ \\ \\ \\ \\ \\ \\ \\ \\ \\ \\ \\ \\ \\ \\ \\ \\ \\ \\ \\ \\ \\ \\ \\ \\ \\ \\ \\ \\ \\ \\ \\ \\ \\ (3)$$\n",
        "\n",
        "While this equation describes the neural dynamics in continuous time, we will have to discretize it in order to be able to solve it. For that, we need to approximate the solution of the equation using a numerical method, which works in discrete time. The simplest approach is the **Euler Method**, which can be defined as:\n",
        "\n",
        "$$ r(t + dt) = r(t) + dt*dr(t)  \\ \\ \\ \\ \\ \\ \\ \\ \\ \\ \\ \\ \\ \\ \\ \\ \\ \\ \\ \\ \\ \\ \\ \\ \\ \\ \\ \\ \\ \\ \\ \\ \\ \\ (4)$$\n",
        "\n",
        "Where $dr(t)$ can be derived as follows:\n",
        "\n",
        "$$ \\tau\\frac{r(t+dt) - r(t)}{dt} = -r(t) + F(I_{ext}(t)) \\ \\ \\Leftrightarrow \\ \\ r(t+dt) = r(t) + dt * \\frac{1}{\\tau}[-r(t) + F(I_{ext}(t))] $$\n",
        "\n",
        "\n",
        "In this block, we will build an implementation of the method described above where we can regulate simulation runtime **T** and the time step **dt**. Then, we will see how the changes in the parameters explored in the first exercise, and in the time constant **$\\tau$**, impact neural dynamics."
      ]
    },
    {
      "cell_type": "markdown",
      "metadata": {
        "id": "VINM9iyD9C8-"
      },
      "source": [
        "**Exercise 2**"
      ]
    },
    {
      "cell_type": "code",
      "execution_count": null,
      "metadata": {
        "colab": {
          "background_save": true
        },
        "id": "BPq4CBb6Fjh1"
      },
      "outputs": [],
      "source": [
        "def simulate_node(params, I_ext, T, dt):\n",
        "    \"\"\"\n",
        "    Simulates activity for a single neural population.\n",
        "\n",
        "    Args:\n",
        "      params (dict): relevant parameters for simulation\n",
        "      I_ext (array): external input\n",
        "      T (float): total simulation time in ms\n",
        "      dt (float): integration time step in ms\n",
        "\n",
        "    Returns:\n",
        "      r (array): population activity for all time steps\n",
        "    \"\"\"\n",
        "    #################################################\n",
        "    # Fill out dr = ... and comment the following line\n",
        "    # Tip: Don't forget to specify all the required arguments inside the F() function\n",
        "    raise NotImplementedError(\"Please complete coding exercise\")\n",
        "    #################################################\n",
        "\n",
        "    # Sets up required parameters\n",
        "    F_max = params['F_max']\n",
        "    mu = params['mu']\n",
        "    sigma = params['sigma']\n",
        "    tau = params['tau_E']\n",
        "\n",
        "    # Initializes activity array\n",
        "    r = np.zeros(int(np.floor(T/dt)))\n",
        "\n",
        "    for i in range(1, int(np.floor(T/dt))):\n",
        "        dr = ...\n",
        "        r[i] = r[i-1] + dt * dr\n",
        "\n",
        "    return r"
      ]
    },
    {
      "cell_type": "code",
      "execution_count": null,
      "metadata": {
        "id": "gVjj5Xx99GXu"
      },
      "outputs": [],
      "source": [
        "# @markdown Code solution (click \"show code\" to copy)\n",
        "\n",
        "# Copy the solution below\n",
        "\n",
        "# dr = (1/tau) * (-r[i-1] + F(I_ext[i-1], F_max, mu, sigma))"
      ]
    },
    {
      "cell_type": "code",
      "execution_count": null,
      "metadata": {
        "id": "lauS0lY0Jzp8"
      },
      "outputs": [],
      "source": [
        "# @markdown Execute this cell to enable the widget!\n",
        "# @markdown Play around with the sliders and explore the following questions:\n",
        "# @markdown 1. What changes in dynamics are caused by manipulating the parameters of the activation function? Did you guess them correctly in the previous exercise?\n",
        "\n",
        "def single_exploration(F_max = 1, mu = 1, sigma = 0.25):\n",
        "\n",
        "  # Simulation parameters\n",
        "  T = 175 #[ms] Simulation time\n",
        "  dt = 0.2 #[ms] Integration time step\n",
        "  t_vec = np.arange(0, T, dt) # Array with time steps\n",
        "\n",
        "  # Externally applied current\n",
        "  t_start = 50\n",
        "  t_end = 70\n",
        "  I_ext = pulse(0.5, 25, 50, T, dt) + pulse(2, 75, 100, T, dt) + pulse(-0.5, 125, 150, T, dt)\n",
        "\n",
        "  # Simulation parameters\n",
        "  plt.figure(figsize=(15, 8))\n",
        "  plt.subplot(211)\n",
        "\n",
        "  pars = default_parameters()\n",
        "  r_E = simulate_node(pars, I_ext, T, dt)\n",
        "  plt.plot(t_vec, r_E, linewidth = 4)\n",
        "\n",
        "  pars = default_parameters(F_max = F_max)\n",
        "  r_E = simulate_node(pars, I_ext, T, dt)\n",
        "  plt.plot(t_vec, r_E, '--', alpha = 0.5, linewidth = 4)\n",
        "\n",
        "  pars = default_parameters(mu = mu)\n",
        "  r_E = simulate_node(pars, I_ext, T, dt)\n",
        "  plt.plot(t_vec, r_E, '--', alpha = 0.5, linewidth = 4)\n",
        "\n",
        "  pars = default_parameters(sigma = sigma)\n",
        "  r_E = simulate_node(pars, I_ext, T, dt)\n",
        "  plt.plot(t_vec, r_E, '--', alpha = 0.5, linewidth = 4)\n",
        "\n",
        "  plt.axhline(y = 0, color = 'k', alpha = 0.4)\n",
        "  plt.xticks([])\n",
        "  plt.ylabel('Activity (a.u.)', fontsize = 14)\n",
        "  #plt.ylim([-0.05, 1.05 * pars['F_max']])\n",
        "  plt.legend(['Default', r'$F_m = ${}'.format(F_max), '$\\mu = ${}'.format(mu), '$\\sigma = ${}'.format(sigma)], fontsize = 14)\n",
        "\n",
        "  plt.subplot(212)\n",
        "  plt.plot(t_vec, I_ext, linewidth = 4)\n",
        "  plt.xlabel('Time (ms)', fontsize = 14)\n",
        "  plt.ylabel(r'$I_{ext}$ (a.u.)', fontsize = 14)\n",
        "  plt.tight_layout()\n",
        "  plt.show()\n",
        "\n",
        "_ = widgets.interact(single_exploration, F_max=(0.1, 2, 0.1), mu = (0.1, 2, 0.1), sigma = (0.05, 1, 0.05))"
      ]
    },
    {
      "cell_type": "code",
      "execution_count": null,
      "metadata": {
        "colab": {
          "background_save": true
        },
        "id": "rRxRDImLMviH"
      },
      "outputs": [],
      "source": [
        "# @markdown Execute this cell to enable the widget!\n",
        "# @markdown Play around with the slider and explore the following questions:\n",
        "\n",
        "# @markdown 2. How does the time constant $\\tau$ impact population activity?\n",
        "\n",
        "def single_exploration(tau = 2.5):\n",
        "\n",
        "  # Simulation parameters\n",
        "  T = 175 #[ms] Simulation time\n",
        "  dt = 0.2 #[ms] Integration time step\n",
        "  t_vec = np.arange(0, T, dt) # Array with time steps\n",
        "\n",
        "  # Externally applied current\n",
        "  t_start = 50\n",
        "  t_end = 70\n",
        "  I_ext = pulse(1, 25, 50, T, dt) + pulse(2, 75, 100, T, dt) + pulse(-1, 125, 150, T, dt)\n",
        "\n",
        "  # Simulation parameters\n",
        "  plt.figure(figsize=(15, 8))\n",
        "  plt.subplot(211)\n",
        "\n",
        "  pars = default_parameters()\n",
        "  r_E = simulate_node(pars, I_ext, T, dt)\n",
        "  plt.plot(t_vec, r_E, linewidth = 4)\n",
        "\n",
        "  pars = default_parameters(tau_E = tau)\n",
        "  r_E = simulate_node(pars, I_ext, T, dt)\n",
        "  plt.plot(t_vec, r_E, '--', alpha = 0.5, linewidth = 4)\n",
        "\n",
        "  plt.axhline(y = 0, color = 'k', alpha = 0.4)\n",
        "  plt.xticks([])\n",
        "  plt.ylabel('Activity (a.u.)', fontsize = 14)\n",
        "  plt.ylim([-0.05, 1.05 * pars['F_max']])\n",
        "  plt.legend(['Default', r'$\\tau = ${} ms'.format(tau)], fontsize = 14)\n",
        "\n",
        "  plt.subplot(212)\n",
        "  plt.plot(t_vec, I_ext, linewidth = 4)\n",
        "  plt.xlabel('Time (ms)', fontsize = 14)\n",
        "  plt.ylabel(r'$I_{ext}$ (a.u.)', fontsize = 14)\n",
        "  plt.tight_layout()\n",
        "  plt.show()\n",
        "\n",
        "_ = widgets.interact(single_exploration, tau = (0.5, 10, 0.5))"
      ]
    },
    {
      "cell_type": "markdown",
      "metadata": {
        "id": "UiMiVc83PsZy"
      },
      "source": [
        "## Excitatory and Inhibitory Populations - The Wilson-Cowan Model"
      ]
    },
    {
      "cell_type": "markdown",
      "metadata": {
        "id": "Dnfm7R5xCaAE"
      },
      "source": [
        "Now that we established and explored how single neural masses work, we can go on to the next step. In their woriginal work, Wilson and Cowan conceptualized neural masses as coupled excitatory and inhibitory populations. The populations can then be described by the following equations:\n",
        "\n",
        "$$$$\n",
        "$$ \\tau_E\\frac{dr^E(t)}{dt} = -r^E(t) + F[c_{EE}r^E(t) - c_{EI}r^I(t) + I_{ext}(t)] \\ \\ \\ \\ \\ \\ \\ \\ \\ \\ \\ \\ \\ \\ \\ \\ \\ \\ \\ \\ \\ \\ \\ (5)$$\n",
        "\n",
        "$$$$\n",
        "$$ \\tau_I\\frac{dr^I(t)}{dt} = -r^I(t) + F[c_{IE}r^E(t) - c_{II}r^I(t)] \\ \\ \\ \\ \\ \\ \\ \\ \\ \\ \\ \\ \\ \\ \\ \\ \\ \\ \\ \\ \\ \\ \\ \\ \\ \\ \\ \\ \\ \\ \\ \\ \\ \\ \\ \\ \\ \\ \\ \\ \\ (6) $$\n",
        "$$$$\n",
        "\n",
        "where $c_{xy}$ represents the weight of the coupling from population $y$ to population $x$. Also, each population works in a different timescale, so it is necessary to define the individual time constants $\\tau_E$ and $\\tau_I$.\n",
        "\n",
        "By coupling neural masses that have an opposite influence (excitatory/inhibitory) on each other, we are able to obtain more complex regimes of activity than the one in our simple neural mass. In this section, we will explore how such regimes are dependent on variables such as the external input ($I_{ext}$) and the time constants.\n",
        "\n",
        "**Note:** From now on, we will consider $c_{II}$ to be = 0 and fix the other coupling weights to values found in literature. Feel free to explore and play around with the parameters after the tutorial."
      ]
    },
    {
      "cell_type": "markdown",
      "metadata": {
        "id": "wV3DOiLP-edz"
      },
      "source": [
        "**Exercise 3**"
      ]
    },
    {
      "cell_type": "code",
      "execution_count": null,
      "metadata": {
        "colab": {
          "background_save": true
        },
        "id": "lgxHGdvSPwFB"
      },
      "outputs": [],
      "source": [
        "def simulate_EI(pars, I_ext, T, dt):\n",
        "    \"\"\"\n",
        "    Simulates activity from two populations of interacting excitatory and inhibitory populations.\n",
        "\n",
        "    Args:\n",
        "      params (dict): relevant parameters for simulation\n",
        "      I_ext (array): external input\n",
        "      T (float): total simulation time in ms\n",
        "      dt (float): time step of simulation\n",
        "\n",
        "    Returns:\n",
        "      r_E (array): excitatory population activity for all time steps\n",
        "      r_I (array): inhibitory population activity for all time steps\n",
        "    \"\"\"\n",
        "    #################################################\n",
        "    # We will implement the inputs to the F function described above\n",
        "    # Fill out E_input = ... and I_input = ... and comment line below\n",
        "    raise NotImplementedError(\"Please complete coding exercise\")\n",
        "    #################################################\n",
        "\n",
        "    # Sets up required parameters\n",
        "    F_max = pars['F_max']\n",
        "    mu = pars['mu']\n",
        "    sigma = pars['sigma']\n",
        "    tau_E = pars['tau_E']\n",
        "    tau_I = pars['tau_I']\n",
        "    cEE = pars['cEE']\n",
        "    cEI = pars['cEI']\n",
        "    cIE = pars['cIE']\n",
        "\n",
        "    # Initializes activity array\n",
        "    r_E = np.zeros(int(np.floor(T/dt)))\n",
        "    r_I = np.zeros(int(np.floor(T/dt)))\n",
        "\n",
        "    for i in range(1, int(np.floor(T/dt))):\n",
        "        E_input = ...\n",
        "        I_input = ...\n",
        "\n",
        "        drE = (1/tau_E) * (-r_E[i-1] + F(E_input, F_max, mu, sigma))\n",
        "        drI = (1/tau_I) * (-r_I[i-1] + F(I_input, F_max, mu, sigma))\n",
        "\n",
        "        r_E[i] = r_E[i-1] + dt * drE\n",
        "        r_I[i] = r_I[i-1] + dt * drI\n",
        "\n",
        "    return r_E, r_I"
      ]
    },
    {
      "cell_type": "code",
      "execution_count": null,
      "metadata": {
        "cellView": "form",
        "colab": {
          "background_save": true
        },
        "id": "RgpWdHju-EU-"
      },
      "outputs": [],
      "source": [
        "# @markdown Code solution (click \"show code\" to copy)\n",
        "\n",
        "# Copy the solution below\n",
        "\n",
        "# E_input = cEE * r_E[i-1] - cEI * r_I[i-1] + I_ext[i-1]\n",
        "# I_input = cIE * r_E[i-1]"
      ]
    },
    {
      "cell_type": "code",
      "execution_count": null,
      "metadata": {
        "cellView": "form",
        "colab": {
          "background_save": true
        },
        "id": "6QxVuVDlU-9I"
      },
      "outputs": [],
      "source": [
        "# @markdown Execute this cell to enable the widget!\n",
        "# @markdown Play around with the slider and explore the following questions:\n",
        "\n",
        "# @markdown 1. How many different activity regimes can we achieve by changing the external input? Where are the points of transition?\n",
        "\n",
        "# @markdown 2. With $I_{amp}$ = 0.4, increase **$\\tau_E$**.\n",
        "# @markdown What happens to the dynamics?\n",
        "\n",
        "# @markdown **Note**: in this case, we fix $\\tau_I$ to be $2 * \\tau_E$. Feel free to explore other combinations after the tutorial.\n",
        "\n",
        "\n",
        "\n",
        "def interactive_plot_EI(I_amp = 0.1, tau_E = 2.5):\n",
        "  \"\"\"\n",
        "  Population activation function.\n",
        "\n",
        "  Expecxts:\n",
        "    I_amp : the amplitude of external input\n",
        "\n",
        "  Returns:\n",
        "    plot the F-I curve with give parameters\n",
        "  \"\"\"\n",
        "  T = 2000\n",
        "  dt = 0.2\n",
        "  t_vec = np.arange(0, T, dt)\n",
        "  pars = default_parameters(sd_noise = 0, tau_E = tau_E, tau_I = 2 * tau_E)\n",
        "\n",
        "  I_ext = I_amp * np.ones(len(t_vec))\n",
        "\n",
        "  r_E, r_I = simulate_EI(pars, I_ext, T, dt)\n",
        "\n",
        "  plt.figure(figsize=(9, 4))\n",
        "  plt.plot(t_vec, r_E, color = 'darkred', linewidth = 3)\n",
        "  plt.plot(t_vec, r_I, color = 'steelblue', linewidth = 3)\n",
        "  plt.axhline(y = 0, color = 'k', alpha = 0.4)\n",
        "  plt.ylabel('Activity (a.u.)', fontsize = 14)\n",
        "  plt.ylim([-0.05, 1.05 * pars['F_max']])\n",
        "  plt.legend(['E', 'I'], fontsize = 14)\n",
        "  plt.xlabel('Time (ms)', fontsize = 14)\n",
        "  plt.title(r'$\\tau_E = ${} ms // $\\tau_I = ${} ms'.format(tau_E, 2 * tau_E), fontsize = 14)\n",
        "  plt.tight_layout()\n",
        "  plt.show()\n",
        "\n",
        "\n",
        "_ = widgets.interact(interactive_plot_EI, I_amp=(0, 1, 0.01), tau_E = (2.5, 50, 2.5))"
      ]
    },
    {
      "cell_type": "markdown",
      "metadata": {
        "id": "iY_Nnv8Xd1Yw"
      },
      "source": [
        "We will now add a noise term to our equations, representic a level of stochasticity observed in real neural dynamics. We can do that by adding a term to our equations that will represent additive Gaussian noise ($\\xi$) with a chosen standard deviation:\n",
        "\n",
        "$$$$\n",
        "$$ \\tau_E\\frac{dr^E(t)}{dt} = -r^E(t) + F[c_{EE}r^E(t) - c_{EI}r^I(t) + I_{ext}(t)+ \\xi(t)] \\ \\ \\ \\ \\ \\ \\ \\ \\ \\ \\ \\ \\ \\ \\ \\ \\ \\ \\ \\ \\ \\ \\ (7) $$\n",
        "\n",
        "$$$$\n",
        "$$ \\tau_I\\frac{dr^I(t)}{dt} = -r^I(t) + F[c_{II}r^E(t) + \\xi(t)]  \\ \\ \\ \\ \\ \\ \\ \\ \\ \\ \\ \\ \\ \\ \\ \\ \\ \\ \\ \\ \\ \\ \\ \\ \\ \\ \\ \\ \\ \\ \\ \\ \\ \\ \\ \\ \\ \\ \\ \\ \\ \\ \\ \\ \\ \\ \\ \\ \\ \\ \\ \\ \\ \\ \\ \\ \\ \\ \\ (8)$$\n",
        "$$$$\n",
        "\n",
        "In this block, we will explore how noise impacts dynamics."
      ]
    },
    {
      "cell_type": "markdown",
      "metadata": {
        "id": "_7hITyJCy53O"
      },
      "source": [
        "**Exercise 4**"
      ]
    },
    {
      "cell_type": "code",
      "execution_count": null,
      "metadata": {
        "cellView": "form",
        "colab": {
          "background_save": true
        },
        "id": "BxGAXx2aes7U"
      },
      "outputs": [],
      "source": [
        "# @markdown Run this cell to update the simulator with noise\n",
        "\n",
        "def simulate_EI(pars, I_ext, T, dt):\n",
        "    \"\"\"\n",
        "    Simulates activity from two populations of interacting excitatory and inhibitory populations.\n",
        "\n",
        "    Args:\n",
        "      params (dict): relevant parameters for simulation\n",
        "      I_ext (array): external input\n",
        "      T (float): total simulation time in ms\n",
        "      dt (float): time step of simulation\n",
        "\n",
        "    Returns:\n",
        "      r_E (array): excitatory population activity for all time steps\n",
        "      r_I (array): inhibitory population activity for all time steps\n",
        "\n",
        "    \"\"\"\n",
        "\n",
        "    # Sets up required parameters\n",
        "    F_max = pars['F_max']\n",
        "    mu = pars['mu']\n",
        "    sigma = pars['sigma']\n",
        "    tau_E = pars['tau_E']\n",
        "    tau_I = pars['tau_I']\n",
        "    cEE = pars['cEE']\n",
        "    cEI = pars['cEI']\n",
        "    cIE = pars['cIE']\n",
        "    sd_noise = pars['sd_noise']\n",
        "\n",
        "    # Initializes activity array\n",
        "    r_E = np.zeros(int(np.floor(T/dt)))\n",
        "    r_I = np.zeros(int(np.floor(T/dt)))\n",
        "\n",
        "    for i in range(1, int(np.floor(T/dt))):\n",
        "        E_input = cEE * r_E[i-1] - cEI * r_I[i-1] + I_ext[i-1] + sd_noise * np.random.randn()\n",
        "        I_input = cIE * r_E[i-1] + sd_noise * np.random.randn()\n",
        "\n",
        "        dRE = (1/tau_E) * (-r_E[i-1] + F(E_input, F_max, mu, sigma))\n",
        "        dRI = (1/tau_I) * (-r_I[i-1] + F(I_input, F_max, mu, sigma))\n",
        "\n",
        "        r_E[i] = r_E[i-1] + dt * dRE\n",
        "        r_I[i] = r_I[i-1] + dt * dRI\n",
        "\n",
        "    return r_E, r_I"
      ]
    },
    {
      "cell_type": "code",
      "execution_count": null,
      "metadata": {
        "cellView": "form",
        "colab": {
          "background_save": true
        },
        "id": "4KTylUKEe42E"
      },
      "outputs": [],
      "source": [
        "# @markdown Execute this cell to enable the widget!\n",
        "# @markdown We will now study a node that is close to the point of transition\n",
        "# @markdown between the **low activity** and **oscillatory** regimes ($I_{ext} = 0.30$). Play around with the slider and explore the following questions:\n",
        "\n",
        "# @markdown 1. What happens when you manipulate the amount of noise in the system?\n",
        "\n",
        "def interactive_plot_EI(sd_noise = 0):\n",
        "  \"\"\"\n",
        "  Population activation function.\n",
        "\n",
        "  Expecxts:\n",
        "    I_amp : the amplitude of external input\n",
        "\n",
        "  Returns:\n",
        "    plot the F-I curve with give parameters\n",
        "  \"\"\"\n",
        "  T = 2000\n",
        "  dt = 0.2\n",
        "  t_vec = np.arange(0, T, dt)\n",
        "  pars = default_parameters(sd_noise = sd_noise)\n",
        "\n",
        "  I_ext = 0.3 * np.ones(len(t_vec))\n",
        "\n",
        "  r_E, r_I = simulate_EI(pars, I_ext, T, dt)\n",
        "\n",
        "  plt.figure(figsize=(9, 4))\n",
        "  plt.plot(t_vec, r_E, color = 'darkred', linewidth = 3)\n",
        "  plt.plot(t_vec, r_I, color = 'steelblue', linewidth = 3)\n",
        "  plt.axhline(y = 0, color = 'k', alpha = 0.4)\n",
        "  plt.ylabel('Activity (a.u.)', fontsize = 14)\n",
        "  plt.ylim([-0.05, 1.05 * pars['F_max']])\n",
        "  plt.legend(['E', 'I'], fontsize = 14)\n",
        "  plt.xlabel('Time (ms)', fontsize = 14)\n",
        "  plt.title(r'Noise sd = {}'.format(sd_noise), fontsize = 14)\n",
        "  plt.tight_layout()\n",
        "  plt.show()\n",
        "\n",
        "\n",
        "_ = widgets.interact(interactive_plot_EI, sd_noise=(0, 0.2, 0.01))"
      ]
    },
    {
      "cell_type": "markdown",
      "metadata": {
        "id": "gMg8TT8qbYiL"
      },
      "source": [
        "# Large Scale Models of Coupled Neural Masses"
      ]
    },
    {
      "cell_type": "markdown",
      "metadata": {
        "id": "gyH9IMm521wJ"
      },
      "source": [
        "## Coupling Two Wilson-Cowan Nodes"
      ]
    },
    {
      "cell_type": "markdown",
      "metadata": {
        "id": "jL6ya_s6Ih3L"
      },
      "source": [
        "When performing simulations of large-scale neural activity, it is common to use networks of coupled neural masses. For example, local dynamics of discretized regions in the brain can be described the Wilson-Cowan model and connections between distant regions in the brain can be represented using a connectivity matrix $W_{ij}$. Now, $r^E$ and $r^I$ are no longer single values, but vectors representing the activities of each local population.\n",
        "\n",
        "We can now make use of the equations above and add an extra term that represents the connections between distant neural masses.\n",
        "\n",
        "$$$$\n",
        "$$ \\tau_E\\frac{dr_i^E(t)}{dt} = -r_i^E(t) + F[c_{EE}r_i^E(t) - c_{EI}r_i^I(t) + C\\sum_j W_{ij} r_j^E(t) + P + I_{ext}(t) + \\xi(t)] \\ \\ \\ \\ \\ \\ \\ \\ \\ \\ \\ \\ \\ \\ \\ \\ \\ \\ \\ \\ \\ (9)$$\n",
        "\n",
        "$$$$\n",
        "$$ \\tau_I\\frac{dr_i^I(t)}{dt} = -r_i^I(t) + F[c_{IE}r_i^E(t) - c_{II}r_i^I(t) + \\xi(t)]  \\ \\ \\ \\ \\ \\ \\ \\ \\ \\ \\ \\ \\ \\ \\ \\ \\ \\ \\ \\ \\ \\ \\ \\ \\ \\ \\ \\ \\ \\ \\ \\ \\ \\ \\ \\ \\ \\ \\ \\ \\ \\ \\ \\ \\ \\ \\ \\ \\ \\ \\ \\ \\ \\ \\ \\ \\ \\ \\ \\ \\ \\ \\ \\ \\ \\ \\ \\ \\ \\ \\ \\ \\ \\ \\ \\ \\ (10) $$\n",
        "$$$$\n",
        "\n",
        "where we added the term $W_{ij} r_j^E(t)$ to the $r^E$ dynamics. Note that long-range connections seem to only involve excitatory masses. This is a common approach in large-scale models of the human brain, since long-range nerve projections are almost exclusively excitatory.\n",
        "\n",
        "We also added the term $P$, similarly to previous studies (https://doi.org/10.1371/journal.pcbi.1006007). This term controls the intrinsic excitability of the excitatory populations and it is common to define in such a way that an uncoupled neural mass, with no external input, is in the verge of the state transition.\n",
        "\n",
        "$$$$\n",
        "\n",
        "For this first approach, we will take a simple network of reciprocally coupled nodes. Therefore, the connectivity matrix is simply:\n",
        "\n",
        "$$ W_{ij} = \\begin{bmatrix}    0 & 1 \\\\ 1 & 0 \\\\ \\end{bmatrix}$$\n",
        "\n",
        "In this exercise, we will vary $C$ to increase or decrease reciprocal coupling between masses and observe its effects on the behavior of our simple network."
      ]
    },
    {
      "cell_type": "markdown",
      "metadata": {
        "id": "XXb3HSpt--wd"
      },
      "source": [
        "**Exercise 5**"
      ]
    },
    {
      "cell_type": "code",
      "execution_count": null,
      "metadata": {
        "colab": {
          "background_save": true
        },
        "id": "XNi4vVHBba0j"
      },
      "outputs": [],
      "source": [
        "def simulate_network(pars, I_ext, C, W, T, dt):\n",
        "    \"\"\"\n",
        "    Simulates activity from a network of Wilson-Cowan nodes, connected according to W.\n",
        "\n",
        "    Args:\n",
        "      params (dict): relevant parameters for simulation\n",
        "      I_ext (array): external input\n",
        "      W (array): connectivity matrix\n",
        "      T (float): total simulation time in ms\n",
        "      dt (float): integration time step in ms\n",
        "\n",
        "    Returns:\n",
        "      r_E (array): excitatory population activity for all time steps\n",
        "      r_I (array): inhibitory population activity for all time steps\n",
        "    \"\"\"\n",
        "\n",
        "    #################################################\n",
        "    # Fill out the ... in E_input with an implementation of long range connectivity and comment line below\n",
        "    # Hint: you can use the operator @ in python to perform matrix multiplication\n",
        "    raise NotImplementedError(\"Please complete coding exercise\")\n",
        "    #################################################\n",
        "\n",
        "    # Sets up required parameters\n",
        "    F_max = pars['F_max']\n",
        "    mu = pars['mu']\n",
        "    sigma = pars['sigma']\n",
        "    tau_E = pars['tau_E']\n",
        "    tau_I = pars['tau_I']\n",
        "    cEE = pars['cEE']\n",
        "    cEI = pars['cEI']\n",
        "    cIE = pars['cIE']\n",
        "    sd_noise = pars['sd_noise']\n",
        "    P = pars['P']\n",
        "\n",
        "    n_nodes = W.shape[0]\n",
        "\n",
        "    # Initializes activity array\n",
        "    r_E = np.zeros((n_nodes, int(np.floor(T/dt))))\n",
        "    r_I = np.zeros((n_nodes, int(np.floor(T/dt))))\n",
        "\n",
        "    for i in range(1, int(np.floor(T/dt))):\n",
        "        E_input = cEE * r_E[:, i-1] - cEI * r_I[:, i-1] + ... + I_ext[:, i-1] + P + sd_noise * np.random.randn(n_nodes)\n",
        "        I_input = cIE * r_E[:, i-1] + sd_noise * np.random.randn(n_nodes)\n",
        "\n",
        "        dRE = (1/tau_E) * (-r_E[:, i-1] + F(E_input, F_max, mu, sigma))\n",
        "        dRI = (1/tau_I) * (-r_I[:, i-1] + F(I_input, F_max, mu, sigma))\n",
        "\n",
        "        r_E[:, i] = r_E[:, i-1] + dt * dRE\n",
        "        r_I[:, i] = r_I[:, i-1] + dt * dRI\n",
        "\n",
        "    return r_E, r_I"
      ]
    },
    {
      "cell_type": "code",
      "execution_count": null,
      "metadata": {
        "cellView": "form",
        "colab": {
          "background_save": true
        },
        "id": "X8WllThU_gSl"
      },
      "outputs": [],
      "source": [
        "# @markdown Code solution (click \"show code\" to copy)\n",
        "\n",
        "# Copy the solution below\n",
        "\n",
        "# E_input = E_input = cEE * r_E[:, i-1] - cEI * r_I[:, i-1] + C*W@r_E[:, i-1] + I_ext[:, i-1] + P + sd_noise * np.random.randn(n_nodes)"
      ]
    },
    {
      "cell_type": "code",
      "execution_count": null,
      "metadata": {
        "cellView": "form",
        "colab": {
          "background_save": true
        },
        "id": "Cl638vs81apc"
      },
      "outputs": [],
      "source": [
        "# @markdown Execute this cell to enable the widget!\n",
        "# @markdown Play around with the slider and explore the following questions:\n",
        "\n",
        "# @markdown 1. How does the coupling between nodes influence the similarity between\n",
        "# @markdown the activity of their excitatory populations?\n",
        "\n",
        "\n",
        "def interactive_plot_2n(C = 0):\n",
        "  \"\"\"\n",
        "  Args:\n",
        "    I_amp : the amplitude of external input\n",
        "\n",
        "  Returns:\n",
        "    plot the F-I curve with give parameters\n",
        "  \"\"\"\n",
        "  # Simulation parameters\n",
        "  T = 2100 #[ms] Simulation time\n",
        "  dt = 0.2 #[ms] Integration time step\n",
        "  t_vec = np.arange(0, T-100, dt) # Array with time steps\n",
        "\n",
        "  # Connectivity matrix\n",
        "  W = np.array([[0, 1], [1, 0]])\n",
        "\n",
        "  # Simulation parameters\n",
        "  pars = default_parameters(P = 0.30, sd_noise = 0.1)\n",
        "  I_ext = np.zeros((W.shape[0], int(np.floor(T/dt))))\n",
        "\n",
        "  r_E, r_I = simulate_network(pars, I_ext, C, W, T, dt)\n",
        "\n",
        "  plt.figure(figsize=(12, 6))\n",
        "  plt.plot(t_vec, r_E[:, 500:].T + np.r_[:W.shape[0]], color = 'darkred')\n",
        "  plt.axhline(y = 0, color = 'k', alpha = 0.4)\n",
        "  plt.axhline(y = 1, color = 'k', alpha = 0.4)\n",
        "  plt.axhline(y = 2, color = 'k', alpha = 0.4)\n",
        "  plt.yticks([0.5, 1.5], ['Node 0', 'Node 1'], fontsize = 14)\n",
        "  plt.xlabel('Time (ms)', fontsize = 14)\n",
        "  plt.text(0, W.shape[0]+0.1, 'Correlation = {}'.format(np.around(np.corrcoef(r_E[0, 500:], r_E[1, 500:])[0,1], 3)), fontsize = 14)\n",
        "  plt.ylim([0, 1.15 * W.shape[0]])\n",
        "  plt.tight_layout()\n",
        "  plt.show()\n",
        "\n",
        "_ = widgets.interact(interactive_plot_2n, C=(0, 1, 0.02))"
      ]
    },
    {
      "cell_type": "markdown",
      "metadata": {
        "id": "yMANp0LL3LEx"
      },
      "source": [
        "## Connectomics and Human Brain Modeling\n"
      ]
    },
    {
      "cell_type": "markdown",
      "metadata": {
        "id": "cVF7i8t_OP8Y"
      },
      "source": [
        "The neural network of the human cortex has patterns of connectivity that are significantly more complex than the simple network we just modelled. Therefore, when modeling human brain dynamics arise, two important problems arise:\n",
        "1. How to discretize the human cortex into regions that we can model using neural masses?\n",
        "2. How to accurately model the structural connectivity between said regions?\n",
        "\n",
        "Thankfully, imaging techniques such as magnetic resonance imaging (MRI) allow us to discretize the human brain into anatomically or functionally specific areas and approximate the strenght of the connections between them, giving us our connectivity matrix.\n",
        "\n",
        "In this section, we will load a connectivity matrix $W_{ij}$ representing the average structural connectivity between 78 regions of the cortex of 32 healthy sujects, using the AAL atlas. Then, we will explore how changing the global coupling $C$ impacts on neural dynamics."
      ]
    },
    {
      "cell_type": "code",
      "execution_count": null,
      "metadata": {
        "cellView": "form",
        "colab": {
          "background_save": true
        },
        "id": "i1icImHw3NuD"
      },
      "outputs": [],
      "source": [
        "# @markdown Execute this cell to load and visualize the human structural connectivity matrix!\n",
        "\n",
        "# @markdown **Note:** in the brain visualization, only the 5% strongest weights are shown, for simplicity of visualization\n",
        "\n",
        "\n",
        "W, coords, labels = load_connectivity()\n",
        "\n",
        "\n",
        "plt.figure(figsize = (15, 15))\n",
        "im = plt.imshow(W, cmap = 'hot')\n",
        "c = plt.colorbar(im, fraction=0.046, pad=0.04)\n",
        "c.set_label('Weigth', fontsize = 14)\n",
        "plt.xticks([])\n",
        "plt.yticks(np.arange(W.shape[0]), labels)\n",
        "plt.clim([0, 1])\n",
        "plt.show()\n",
        "\n",
        "density = 0.1\n",
        "th = np.sort(W.flatten())[int(np.size(W)*(1-density))]\n",
        "\n",
        "fig = plt.figure(figsize = (15, 8))\n",
        "ax1 = plt.subplot(121)\n",
        "ax = plotting.plot_connectome(W,coords,display_mode='z', edge_threshold=th, edge_vmin=-1, edge_vmax=1, figure=fig, node_size=100, node_color='k', alpha = 0.5, axes = ax1)\n",
        "ax2 = plt.subplot(122)\n",
        "ax = plotting.plot_connectome(W,coords,display_mode='x', edge_threshold=th, edge_vmin=-1, edge_vmax=1, figure=fig, node_size=100, node_color='k', alpha = 0.5, axes = ax2)\n",
        "\n",
        "plt.show()"
      ]
    },
    {
      "cell_type": "markdown",
      "metadata": {
        "id": "UC8qloDkzbgJ"
      },
      "source": [
        "**Exercise 6**"
      ]
    },
    {
      "cell_type": "code",
      "execution_count": null,
      "metadata": {
        "cellView": "form",
        "colab": {
          "background_save": true
        },
        "id": "PLR8Bikp7l_M"
      },
      "outputs": [],
      "source": [
        "# @markdown Execute this cell to enable the widget!\n",
        "# @markdown Play around with the slider and explore the following questions:\n",
        "\n",
        "# @markdown 1. How does the global coupling (C) between nodes influence the average correlation between node activity?\n",
        "\n",
        "# @markdown 2. What happens when we increase C above a certain value?\n",
        "\n",
        "# @markdown **Note:** only the first 5 nodes are shown and considered when calculating the correlation\n",
        "\n",
        "def interactive_plot_brain(W, C = 0):\n",
        "  \"\"\"\n",
        "  Args:\n",
        "    I_amp : the amplitude of external input\n",
        "\n",
        "  Returns:\n",
        "    plot the F-I curve with give parameters\n",
        "  \"\"\"\n",
        "  # Simulation parameters\n",
        "  T = 5100 #[ms] Simulation time\n",
        "  dt = 0.5 #[ms] Integration time step\n",
        "  t_vec = np.arange(0, T-100, dt) # Array with time steps\n",
        "\n",
        "  # Simulation parameters\n",
        "  pars = default_parameters(P = 0.31, sd_noise = 0.05)\n",
        "  I_ext = np.zeros((W.shape[0], int(np.floor(T/dt))))\n",
        "\n",
        "  r_E, r_I = simulate_network(pars, I_ext, C, W, T, dt)\n",
        "\n",
        "  corr_mat = np.triu(np.corrcoef(r_E[:5, 200:]), k = 1)\n",
        "  avg_corr = np.mean(corr_mat)\n",
        "\n",
        "  plt.figure(figsize=(12, 6))\n",
        "  plt.plot(t_vec, r_E[:5, 200:].T + np.r_[:5], color = 'darkred')\n",
        "  for i in range(6):\n",
        "    plt.axhline(y = i, color = 'k', alpha = 0.4)\n",
        "  plt.yticks([i+0.5 for i in range(5)], ['Node {}'.format(i) for i in range(5)], fontsize = 14)\n",
        "  plt.xlabel('Time (ms)', fontsize = 14)\n",
        "  plt.text(0, 5.3, 'Average corr. = {}'.format(np.around(avg_corr, 3)), fontsize = 14)\n",
        "  plt.ylim([0, 6])\n",
        "  plt.tight_layout()\n",
        "  plt.show()\n",
        "\n",
        "_ = widgets.interact(interactive_plot_brain, W = widgets.fixed(W), C=(0, 0.5, 0.01))"
      ]
    },
    {
      "cell_type": "markdown",
      "metadata": {
        "id": "XfGtDEpB_JeX"
      },
      "source": [
        "## BOLD Functional Connectivity"
      ]
    },
    {
      "cell_type": "markdown",
      "metadata": {
        "id": "70jjn9qAS9Qn"
      },
      "source": [
        "Functional connectivity, as opposed to structural connectivity, represents functional coupling between different areas in the brain. This is often evaluated by correlations in activity which means that regions that are have no structural connections can be functionally connected.\n",
        "\n",
        "Functional connectivity is often measured in the brain by measuring the correlation between fMRI derived **blood-oxygenation-level dependent (BOLD)** signals. BOLD signals represent haemodynamic responses, tied to increased metabolism from neurons in measured areas, which is used as a proxy for increased neural activity.\n",
        "\n",
        "In our models, so far, we have been simulating population firing rates. The **Balloon-Windkessel model**, first developed by Buxton et al. (doi: 10.1002/mrm.1910390602) and then updated by Friston et al. (doi:10.1006/nimg.2000.0630), allows us to go from firing-rate activity to simulated BOLD signals. In short, activity from neural masses is run through a hemodynamic model specifying the coupling between activity and blood perfusion, which then underlies simulated BOLD signals."
      ]
    },
    {
      "cell_type": "markdown",
      "metadata": {
        "id": "KToOt0O1z8Cj"
      },
      "source": [
        "**Exercise 7**"
      ]
    },
    {
      "cell_type": "code",
      "execution_count": null,
      "metadata": {
        "cellView": "form",
        "colab": {
          "background_save": true
        },
        "id": "CNVVnyye85pc"
      },
      "outputs": [],
      "source": [
        "# @markdown Run this cell to update the simulation function\n",
        "\n",
        "def simulate_network(pars, I_ext, C, W, T, dt):\n",
        "    \"\"\"\n",
        "    Population activation function.\n",
        "\n",
        "    Args:\n",
        "      params (dict): relevant parameters for simulation\n",
        "      I_ext (array): external input\n",
        "      W (array): connectivity matrix\n",
        "      T (float): total simulation time in ms\n",
        "      dt (float): integration time step in ms\n",
        "\n",
        "    Returns:\n",
        "      r_E (array): population activity for all time steps\n",
        "    \"\"\"\n",
        "\n",
        "    # Sets up required parameters\n",
        "    F_max = pars['F_max']\n",
        "    mu = pars['mu']\n",
        "    sigma = pars['sigma']\n",
        "    tau_E = pars['tau_E']\n",
        "    tau_I = pars['tau_I']\n",
        "    cEE = pars['cEE']\n",
        "    cEI = pars['cEI']\n",
        "    cIE = pars['cIE']\n",
        "    sd_noise = pars['sd_noise']\n",
        "    P = pars['P']\n",
        "\n",
        "    n_nodes = W.shape[0]\n",
        "\n",
        "    # Initializes activity array\n",
        "    r_E = np.zeros((n_nodes, int(np.floor(T/dt))))\n",
        "    r_I = np.zeros((n_nodes, int(np.floor(T/dt))))\n",
        "\n",
        "    print('Simulation running...')\n",
        "    for i in tqdm(range(1, int(np.floor(T/dt)))):\n",
        "        E_input = cEE * r_E[:, i-1] - cEI * r_I[:, i-1] + C*W @ r_E[:, i-1] + P + sd_noise * np.random.randn(n_nodes)\n",
        "        I_input = cIE * r_E[:, i-1] + sd_noise * np.random.randn(n_nodes)\n",
        "\n",
        "        dRE = (1/tau_E) * (-r_E[:, i-1] + F(E_input, F_max, mu, sigma))\n",
        "        dRI = (1/tau_I) * (-r_I[:, i-1] + F(I_input, F_max, mu, sigma))\n",
        "\n",
        "        r_E[:, i] = r_E[:, i-1] + dt * dRE\n",
        "        r_I[:, i] = r_I[:, i-1] + dt * dRI\n",
        "\n",
        "    return r_E, r_I"
      ]
    },
    {
      "cell_type": "code",
      "execution_count": null,
      "metadata": {
        "cellView": "form",
        "colab": {
          "background_save": true
        },
        "id": "t4mdTuMm_kxu"
      },
      "outputs": [],
      "source": [
        "# @markdown Run this cell to run a simulation of 6 minutes of activity. 5 minutes\n",
        "# @markdown will be used to calculate the respective BOLD signal. The simulation and\n",
        "# @markdown calculation of BOLD signals might take a while, so be patient!\n",
        "\n",
        "# @markdown When the simulation finishes, try to answer the following questions:\n",
        "# @markdown 1. How fast do the BOLD signals fluctuate, respective to previously observed population firing rates?\n",
        "# @markdown 2. How uniform is the amplitude of the simulated BOLD signal across areas? Can you find an explanation for what you observe?\n",
        "\n",
        "# Simulation parameters\n",
        "\n",
        "T = 6 * 60 * 1000 # [ms] Simulation time\n",
        "dt = 0.2 #[ms] Integration time step\n",
        "t_vec = np.arange(0, T, dt) # Array with time steps\n",
        "\n",
        "# Connectivity matrix\n",
        "C = 0.13\n",
        "\n",
        "# Simulation parameters\n",
        "pars = default_parameters(P = 0.31, sd_noise = 0.01)\n",
        "I_ext = 0\n",
        "\n",
        "r_E, r_I = simulate_network(pars, I_ext, C, W, T, dt)\n",
        "\n",
        "BOLD = balloon(r_E, dt)\n",
        "BOLD_rs = bold_rs_pipeline(BOLD, dt, fs = 1e3/dt)\n",
        "BOLD = bold_FC_pipeline(BOLD, dt, fs = 1e3/dt)\n",
        "BOLD /= np.max(np.abs(BOLD)) # Normalize for visualization\n",
        "BOLD_rs /= np.max(np.abs(BOLD_rs)) # Normalize for visualization\n",
        "\n",
        "plot_BOLD(BOLD_rs, fs = 1/0.72, n = 15)\n",
        "plot_BOLD_standardized(BOLD_rs, fs = 1/0.72, n = 15)"
      ]
    },
    {
      "cell_type": "markdown",
      "metadata": {
        "id": "j6wFUbyG0iG7"
      },
      "source": [
        "Now that we have established how to simulate BOLD signals from the human cortex, it’s time to look at functional connectivity. We will use the pair-wise Pearson’s Correlation Coefficient as our estimate of functional connectivity, which means that $FC_{ij}$ can be defined as:\n",
        "\n",
        "$$$$\n",
        "\n",
        "$$\n",
        "FC_{ij} = corrcoef(BOLD_i, BOLD_j)\n",
        "$$\n",
        "\n",
        "$$$$\n",
        "\n",
        "In the following exercise, you will implement a function to calculate the functional connectivity matrix of our model, given its simulated BOLD signal.\n"
      ]
    },
    {
      "cell_type": "markdown",
      "metadata": {
        "id": "83y3UB40_rXO"
      },
      "source": [
        "**Exercise 8**"
      ]
    },
    {
      "cell_type": "code",
      "execution_count": null,
      "metadata": {
        "colab": {
          "background_save": true
        },
        "id": "HcjweSuEJUAs"
      },
      "outputs": [],
      "source": [
        "def compute_FC(BOLD):\n",
        "\n",
        "    #################################################\n",
        "    # Fill out FC_mat[i, j] = ... and comment line below\n",
        "    # Hint: use the np.corrcoef() function to calculate the correlation between two arrays.\n",
        "    # np.corrcoef() outputs a matrix [[corr(i,i), corr(i,j)], [corr(j,i), corr(j,j)]] so make sure to select the right element!\n",
        "    raise NotImplementedError(\"Please complete coding exercise\")\n",
        "    #################################################\n",
        "\n",
        "    n_nodes = np.shape(BOLD)[0]\n",
        "    FC_mat = np.zeros((n_nodes, n_nodes))\n",
        "\n",
        "    #Fills in upper triangle of matrix, because it's symmetrical\n",
        "    for i in range(n_nodes):\n",
        "        for j in range(i+1, n_nodes):\n",
        "            FC_mat[i, j] = ...\n",
        "\n",
        "    # Fills in rest of matrix. Correlation between node i and node j is the same as node j and node i\n",
        "    FC_mat += FC_mat.T\n",
        "\n",
        "    return FC_mat"
      ]
    },
    {
      "cell_type": "code",
      "execution_count": null,
      "metadata": {
        "cellView": "form",
        "colab": {
          "background_save": true
        },
        "id": "Ox0bnesa_twM"
      },
      "outputs": [],
      "source": [
        "# @markdown Code solution (click \"show code\" to copy)\n",
        "\n",
        "# Copy the solution below\n",
        "\n",
        "# FC_mat[i, j] = np.corrcoef(BOLD[i, :], BOLD[j, :])[0, 1]\n",
        "\n",
        "# While the code was written in this way for you to better conceptualize the pairwise\n",
        "# correlation between areas that entails FC, there is actually a much simpler and\n",
        "# more efficient way to calculate it:\n",
        "\n",
        "# FC_mat = np.corrcoef(BOLD)\n",
        "\n",
        "# When presented with a multidimensional array, the numpy function corrcoef\n",
        "# computes the pairwise correlation between the rows of the matrix, by default."
      ]
    },
    {
      "cell_type": "code",
      "execution_count": null,
      "metadata": {
        "cellView": "form",
        "colab": {
          "background_save": true
        },
        "id": "vLE1VnYrJyKC"
      },
      "outputs": [],
      "source": [
        "#@markdown Run this cell to visualize FC and compare it with SC. Try to answer the following question:\n",
        "#@markdown 1. Do you see the same structure organization that you previously observed for FC?\n",
        "#@markdown 2. How do the structural and functional connectivities compare? Can you identify strong functional links between weakly connected regions and vice-versa?\n",
        "\n",
        "\n",
        "FC_mat = compute_FC(BOLD)\n",
        "\n",
        "plt.figure(figsize = (15, 15))\n",
        "im = plt.imshow(FC_mat, cmap = 'viridis')\n",
        "c = plt.colorbar(im, fraction=0.046, pad=0.04)\n",
        "plt.clim([0, 1])\n",
        "c.set_label('Functional Connectivity', fontsize = 14)\n",
        "plt.xticks([])\n",
        "plt.yticks(np.arange(W.shape[0]), labels)\n",
        "plt.show()\n",
        "\n",
        "\n",
        "plt.figure(figsize = (18, 6))\n",
        "plt.subplot(131)\n",
        "plt.title('FC Matrix')\n",
        "im = plt.imshow(FC_mat, cmap = 'viridis')\n",
        "plt.clim([0, 1])\n",
        "plt.xticks([])\n",
        "plt.yticks([])\n",
        "plt.subplot(132)\n",
        "plt.title('SC Matrix')\n",
        "im = plt.imshow(W, cmap = 'hot')\n",
        "plt.clim([0, 1])\n",
        "plt.xticks([])\n",
        "plt.yticks([])\n",
        "plt.subplot(133)\n",
        "plt.title(r'Correlation FC vs. SC || $\\rho$ = {}'.format(np.around(np.corrcoef(W.flatten()[:, ], FC_mat.flatten())[0, 1], 3)))\n",
        "reg = LinearRegression().fit(W.flatten()[:, None], FC_mat.flatten()[:, None])\n",
        "plt.plot(np.arange(0, 1, 0.01), reg.intercept_ + reg.coef_[0] * np.arange(0, 1, 0.01), 'r--')\n",
        "plt.scatter(W.flatten()[:, ], FC_mat.flatten())\n",
        "plt.xlabel('SC')\n",
        "plt.ylabel('FC')\n",
        "plt.legend(['Linear Reg. Fit'])\n",
        "plt.tight_layout()\n",
        "plt.show()"
      ]
    },
    {
      "cell_type": "markdown",
      "metadata": {
        "id": "x4tTF6hQKBXy"
      },
      "source": [
        "## Applications of Large-Scale Modeling: Functional Connectivity in Lesioned Networks"
      ]
    },
    {
      "cell_type": "markdown",
      "metadata": {
        "id": "zQ40Tt8FdZ9C"
      },
      "source": [
        "In this section, we will explore how lesions in the structural connectivity (e.g. in the case of stroke) might impact functional connectivity. Here, a lesion in a certain node will be emulated by removing all the connections too and from said node.\n",
        "\n",
        "In this section, you will implement a lesion function and then select one (or more) node to lesion in your network. Then, simulations will be rerun to compare FC before and after lesion."
      ]
    },
    {
      "cell_type": "markdown",
      "metadata": {
        "id": "08SlfOaiC6ts"
      },
      "source": [
        "**Exercise 9**"
      ]
    },
    {
      "cell_type": "code",
      "execution_count": null,
      "metadata": {
        "colab": {
          "background_save": true
        },
        "id": "rOF5mtVXJ_Ge"
      },
      "outputs": [],
      "source": [
        "def lesion(SC, nodes):\n",
        "\n",
        "  #################################################\n",
        "  # Fill out ... and comment line below\n",
        "  # Hint: Don't forget that you should lesion connections both to and from the specified nodes\n",
        "  raise NotImplementedError(\"Please complete coding exercise\")\n",
        "  #################################################\n",
        "\n",
        "  new_SC = SC.copy()\n",
        "  for node in nodes:\n",
        "\n",
        "    # Write your code here\n",
        "    ...\n",
        "\n",
        "  return new_SC"
      ]
    },
    {
      "cell_type": "code",
      "execution_count": null,
      "metadata": {
        "cellView": "form",
        "colab": {
          "background_save": true
        },
        "id": "c0X6fmtyCJZ8"
      },
      "outputs": [],
      "source": [
        "# @markdown Code solution (click \"show code\" to copy)\n",
        "\n",
        "# Copy the solution below\n",
        "\n",
        "# new_SC[node, :] = 0\n",
        "# new_SC[:, node] = 0"
      ]
    },
    {
      "cell_type": "code",
      "execution_count": null,
      "metadata": {
        "cellView": "form",
        "colab": {
          "background_save": true
        },
        "id": "BZtzQJthUXdu"
      },
      "outputs": [],
      "source": [
        "# @markdown Run this cell to choose and visualize lesioned nodes.\n",
        "\n",
        "# @markdown **Note:** only connections with weight larger than 0.3 are shown, for simplicity of visualization.\n",
        "\n",
        "lesion_nodes = input('Write lesioned node(s), separated by commas (e.g. 0,1,2,3) and press Enter: ')\n",
        "\n",
        "if isinstance(lesion_nodes[0], str):\n",
        "  lesion_nodes = [int(node) for node in lesion_nodes.split(',')]\n",
        "\n",
        "print('')\n",
        "print('')\n",
        "print('Lesioned nodes: ')\n",
        "print('')\n",
        "for node in lesion_nodes:\n",
        "  print('Node {}: {}'.format(node, labels[node]))\n",
        "\n",
        "fig = plt.figure(figsize = (15, 8))\n",
        "\n",
        "W_les_test = W.copy()\n",
        "\n",
        "for node in lesion_nodes:\n",
        "  W_les_test[node, :] = 0\n",
        "  W_les_test[:, node] = 0\n",
        "\n",
        "density = 0.1\n",
        "th = np.sort(W.flatten())[int(np.size(W)*(1-density))]\n",
        "\n",
        "ax1 = plt.subplot(121)\n",
        "ax = plotting.plot_connectome(W_les_test,coords,display_mode='z', edge_threshold = th, edge_vmin=-1, edge_vmax=1, figure=fig, node_size=100, node_color='k', alpha = 0.5, axes = ax1)\n",
        "for node in lesion_nodes:\n",
        "  plt.scatter(coords[node, 0], coords[node, 1], color = 'skyblue', s = 600)\n",
        "ax2 = plt.subplot(122)\n",
        "ax = plotting.plot_connectome(W_les_test,coords,display_mode='x', edge_threshold= th, edge_vmin=-1, edge_vmax=1, figure=fig, node_size=100, node_color='k', alpha = 0.5, axes = ax2)\n",
        "for node in lesion_nodes:\n",
        "  plt.scatter(coords[node, 1], coords[node, 2], color = 'skyblue', s = 600)\n",
        "\n",
        "\n",
        "plt.show()"
      ]
    },
    {
      "cell_type": "code",
      "execution_count": null,
      "metadata": {
        "cellView": "form",
        "colab": {
          "background_save": true
        },
        "id": "UZXjahBvKdzN"
      },
      "outputs": [],
      "source": [
        "# @markdown Execute this cell to run a simulation of 6 minutes of activity,\n",
        "# @markdown compute BOLD signals and use 5 minutes of signal to obtain the FC of our lesioned network.\n",
        "# @markdown This should take about 5 minutes, so be patient!\n",
        "\n",
        "lesion_W = lesion(W, lesion_nodes)\n",
        "\n",
        "lesion_r_E, lesion_r_I = simulate_network(pars, I_ext, C, lesion_W, T, dt)\n",
        "\n",
        "lesion_signal = lesion_r_E\n",
        "\n",
        "lesion_BOLD = balloon(lesion_signal, dt)\n",
        "lesion_BOLD = bold_FC_pipeline(lesion_BOLD, dt, fs = 1e3/dt)\n",
        "lesion_BOLD /= np.max(np.abs(lesion_BOLD)) # Normalize for visualization\n",
        "\n",
        "lesion_FC_mat = compute_FC(lesion_BOLD)\n",
        "\n",
        "for node in lesion_nodes:\n",
        "  lesion_FC_mat[node, :] = 0\n",
        "  lesion_FC_mat[:, node] = 0"
      ]
    },
    {
      "cell_type": "code",
      "execution_count": null,
      "metadata": {
        "cellView": "form",
        "colab": {
          "background_save": true
        },
        "id": "3VpG0MbFL6Ks"
      },
      "outputs": [],
      "source": [
        "#@markdown Run this cell to visualize pre-lesion FC, post-lesion FC and their difference. Try to answer the following questions:\n",
        "#@markdown 1. Can you identify clear differences in FC after lesion? Does it mainly increase or decrease?\n",
        "#@markdown 2. Are the effects of the lesion contained in its vicinity or do they spread across the cortex?\n",
        "\n",
        "plt.figure(figsize = (18, 6))\n",
        "plt.subplot(131)\n",
        "plt.title('Healthy FC Matrix')\n",
        "im = plt.imshow(FC_mat, cmap = 'viridis')\n",
        "plt.axhline(y = 38.5, color = 'w')\n",
        "plt.axvline(x = 38.5, color = 'w')\n",
        "plt.clim([0, 1])\n",
        "plt.xticks([])\n",
        "plt.yticks([])\n",
        "plt.subplot(132)\n",
        "plt.title('Lesioned FC Matrix')\n",
        "im = plt.imshow(lesion_FC_mat, cmap = 'viridis')\n",
        "plt.axhline(y = 38.5, color = 'w')\n",
        "plt.axvline(x = 38.5, color = 'w')\n",
        "for node in lesion_nodes:\n",
        "  plt.axhline(y = node, color = 'k', linewidth = 6, alpha = 1)\n",
        "  plt.axvline(x = node, color = 'k', linewidth = 6, alpha = 1)\n",
        "\n",
        "plt.clim([0, 1])\n",
        "plt.xticks([])\n",
        "plt.yticks([])\n",
        "plt.subplot(133)\n",
        "plt.title('FC Difference')\n",
        "im = plt.imshow(lesion_FC_mat - FC_mat, cmap = 'coolwarm')\n",
        "plt.axhline(y = 38.5, color = 'w')\n",
        "plt.axvline(x = 38.5, color = 'w')\n",
        "for node in lesion_nodes:\n",
        "  plt.axhline(y = node, color = 'k', linewidth = 6, alpha = 1)\n",
        "  plt.axvline(x = node, color = 'k', linewidth = 6, alpha = 1)\n",
        "plt.clim([-1, 1])\n",
        "plt.xticks([])\n",
        "plt.yticks([])\n",
        "plt.tight_layout()\n",
        "plt.show()"
      ]
    },
    {
      "cell_type": "markdown",
      "metadata": {
        "id": "hHjbqf0lKX_q"
      },
      "source": [
        "## Bonus: Store Data for Visualization in BrainX3\n",
        "#### **Note:** This section applies to the Large-Scale Modeling tutorial at the DCBT2022 summer school. If you are following this tutorial at any other context, fell free to skip it.\n"
      ]
    },
    {
      "cell_type": "markdown",
      "metadata": {
        "id": "93TC7JqojhvY"
      },
      "source": [
        "You might have noticed that it is hard to conceptualize functional connectivity when just looking at a matrix, which does not allow us to put the results in the context of the brain. This is where platforms such as **BrainX3** come into hand.\n",
        "\n",
        "In this section, we will learn how to extract our functional connectivity data to a format that can be loaded and visualized in BrainX3."
      ]
    },
    {
      "cell_type": "code",
      "execution_count": null,
      "metadata": {
        "cellView": "form",
        "colab": {
          "background_save": true
        },
        "id": "s4Y9ZnldhwoX"
      },
      "outputs": [],
      "source": [
        "# @markdown For now, I have written the code for you, so that BrainX3 can read your data properly.\n",
        "# @markdown Run this cell to export 3 matrices representing FC pre and post-lesion and their difference\n",
        "\n",
        "diff_mat = lesion_FC_mat - FC_mat\n",
        "\n",
        "for node in lesion_nodes:\n",
        "  diff_mat[node, :] = 0\n",
        "  diff_mat[:, node] = 0\n",
        "  lesion_FC_mat[node, :] = 0\n",
        "  lesion_FC_mat[:, node] = 0\n",
        "\n",
        "\n",
        "# This doesn't affect the actual data to be visualized in Brainx3\n",
        "# It is here to ensure that the colormap is symmetric in BrainX3\n",
        "diff_mat[0, 0] = np.max(np.abs(diff_mat))\n",
        "diff_mat[1, 1] = -np.max(np.abs(diff_mat))\n",
        "\n",
        "G_pre_lesion = nx.convert_matrix.from_numpy_array(FC_mat)\n",
        "G_pos_lesion = nx.convert_matrix.from_numpy_array(lesion_FC_mat)\n",
        "G_diff = nx.convert_matrix.from_numpy_array(diff_mat)\n",
        "\n",
        "nx.set_node_attributes(G_pre_lesion, {key:value for (key,value) in zip(np.arange(78), coords[:, 0])}, \"x\")\n",
        "nx.set_node_attributes(G_pre_lesion, {key:value for (key,value) in zip(np.arange(78), coords[:, 1])}, \"y\")\n",
        "nx.set_node_attributes(G_pre_lesion, {key:value for (key,value) in zip(np.arange(78), coords[:, 2])}, \"z\")\n",
        "\n",
        "nx.set_node_attributes(G_pos_lesion, {key:value for (key,value) in zip(np.arange(78), coords[:, 0])}, \"x\")\n",
        "nx.set_node_attributes(G_pos_lesion, {key:value for (key,value) in zip(np.arange(78), coords[:, 1])}, \"y\")\n",
        "nx.set_node_attributes(G_pos_lesion, {key:value for (key,value) in zip(np.arange(78), coords[:, 2])}, \"z\")\n",
        "\n",
        "nx.set_node_attributes(G_diff, {key:value for (key,value) in zip(np.arange(78), coords[:, 0])}, \"x\")\n",
        "nx.set_node_attributes(G_diff, {key:value for (key,value) in zip(np.arange(78), coords[:, 1])}, \"y\")\n",
        "nx.set_node_attributes(G_diff, {key:value for (key,value) in zip(np.arange(78), coords[:, 2])}, \"z\")\n",
        "\n",
        "values = dict()\n",
        "for i in range(78):\n",
        "  if i in lesion_nodes:\n",
        "    values[i] = 1\n",
        "  else:\n",
        "    values[i] = 0\n",
        "\n",
        "nx.set_node_attributes(G_pos_lesion, {key:value for (key, value) in zip(np.arange(78), values)}, \"value\")\n",
        "nx.set_node_attributes(G_diff, {key:value for (key, value) in zip(np.arange(78), values)}, \"value\")\n",
        "\n",
        "nx.write_gpickle(G_pre_lesion, \"FC_pre_lesion.gpickle\")\n",
        "nx.write_gpickle(G_pos_lesion, \"FC_post_lesion.gpickle\")\n",
        "nx.write_gpickle(G_diff, \"FC_difference.gpickle\")\n",
        "\n",
        "files.download(\"FC_pre_lesion.gpickle\")\n",
        "files.download(\"FC_post_lesion.gpickle\")\n",
        "files.download(\"FC_difference.gpickle\")"
      ]
    },
    {
      "cell_type": "code",
      "execution_count": null,
      "metadata": {
        "cellView": "form",
        "colab": {
          "background_save": true
        },
        "id": "0DRuyzOg71n6"
      },
      "outputs": [],
      "source": [
        "# @title Functions\n",
        "\n",
        "# Auxiliary Functions\n",
        "\n",
        "def load_connectivity():\n",
        "\n",
        "  ## Connectivity matrix ##\n",
        "\n",
        "  # Define the remote file to retrieve\n",
        "  remote_url = 'https://drive.google.com/uc?id=1tkwQbpl0-PYwasci1Z_ClRWwe7ZlM1vz'\n",
        "  # Define the local filename to save data\n",
        "  local_file = 'SC_AAL78.npy'\n",
        "  # Make http request for remote file data\n",
        "  gdown.download(remote_url, local_file, quiet = True)\n",
        "\n",
        "  # Gets connectivity information\n",
        "  connect = np.load('SC_AAL78.npy')\n",
        "\n",
        "  ## Coordinates ##\n",
        "\n",
        "  # Define the remote file to retrieve\n",
        "  remote_url = 'https://drive.google.com/uc?id=1U-sUjSEt2e3cCz6VWnNbccDVv_aBYRkJ'\n",
        "  # Define the local filename to save data\n",
        "  local_file = 'AAL78_coords.npy'\n",
        "  # Make http request for remote file data\n",
        "  gdown.download(remote_url, local_file, quiet = True)\n",
        "\n",
        "  # Gets coordinate information\n",
        "  coords = np.load('AAL78_coords.npy')\n",
        "\n",
        "  ## Connectome labels ##\n",
        "\n",
        "  # Define the remote file to retrieve\n",
        "  remote_url = 'https://drive.google.com/uc?id=1E_s6tNXlKSfkD2gTD4cQAhSxl6LjM5nj'\n",
        "  # Define the local filename to save data\n",
        "  local_file = 'labels.npy'\n",
        "  # Make http request for remote file data\n",
        "  gdown.download(remote_url, local_file, quiet = True)\n",
        "\n",
        "  # Gets coordinate information\n",
        "  labels = np.load('labels.npy')\n",
        "\n",
        "  # This sorts connectivity so that nodes are grouped by hemisphere\n",
        "  order = np.concatenate((np.arange(0, 78, 2), np.arange(1, 78, 2)))\n",
        "\n",
        "  connect = np.array([[connect[i][j] for j in order] for i in order])\n",
        "  coords = np.array([coords[i] for i in order])\n",
        "  labels = np.array([labels[i] for i in order])\n",
        "\n",
        "  return connect, coords, labels\n",
        "\n",
        "def default_parameters(**kwargs):\n",
        "  pars = {}\n",
        "\n",
        "  # Activation function parameters\n",
        "  pars['F_max'] = 1 # maximum activation\n",
        "  pars['mu'] = 1 # activation threshold\n",
        "  pars['sigma'] = 0.25 # activation function slope\n",
        "\n",
        "  # Time constants for both populations\n",
        "  pars['tau_E'] = 2.5 # (ms) Excitatory time constant (tuned to gamma oscillations)\n",
        "  pars['tau_I'] = 5 # (ms) Inhibitory time constant\n",
        "\n",
        "  # Standard deviation of additive noise\n",
        "  pars['sd_noise'] = 0.01\n",
        "\n",
        "  # Couplings from excitatory to inhibitory population\n",
        "  pars['cEE'] = 3.5 # E->E coupling\n",
        "  pars['cIE'] = 3.75 # E->I coupling\n",
        "  pars['cEI'] = 2.5 # I->E coupling\n",
        "\n",
        "  # Parameter to control excitability of excitatory population\n",
        "  pars['P'] = 0.31 # Defined to put the node at the transition between stable and oscillatory activity\n",
        "\n",
        "  # External parameters if any\n",
        "  pars.update(kwargs)\n",
        "\n",
        "  return pars\n",
        "\n",
        "def pulse(I, t_start, t_end, T, dt):\n",
        "\n",
        "  I_vec = np.zeros(int(np.floor(T/dt)))\n",
        "  I_vec[int(np.floor(t_start/dt)):int(np.floor(t_end/dt))] = I\n",
        "\n",
        "  return I_vec\n",
        "\n",
        "def balloon(signals, dt):\n",
        "\n",
        "  '''\n",
        "  Implementation of Balloon-Windkessel model for hemodynamics,\n",
        "  as implemented by Deco et al. 2009 PNAS. Takes firing-rate activity from\n",
        "  model and transforms it into a simulated BOLD fMRI signal\n",
        "\n",
        "  Args:\n",
        "    signals (array): array with shape [node, sample] containing model activity\n",
        "    dt (float): time step of original signal (ms)\n",
        "\n",
        "  Returns:\n",
        "    BOLD (array): simulated BOLD signal for all nodes [node, sample]\n",
        "  '''\n",
        "\n",
        "  print('Applying Balloon-Windkessel Model...')\n",
        "\n",
        "  BOLD = np.zeros(np.shape(signals))\n",
        "\n",
        "  k = 0.65 # [1/s] rate of signal decay\n",
        "  gamma = 0.41  # [1/s] rate of flow-dependent elimination\n",
        "  tau = 0.98 # [s] hemodynamic transit time\n",
        "  alpha = 0.32 # Grubbs exponent\n",
        "  rho = 0.34 # resting oxygen extraction fraction\n",
        "  V0 = 0.02 # resting blood volume fraction\n",
        "  dt = dt / 1000 # [s]\n",
        "\n",
        "  n = np.shape(signals)[0]\n",
        "\n",
        "  curr_s = 1e-10 * np.ones((1, n))\n",
        "  curr_f = 1e-10 * np.ones((1, n))\n",
        "  curr_v = 1e-10 * np.ones((1, n))\n",
        "  curr_q = 1e-10 * np.ones((1, n))\n",
        "\n",
        "  for i in tqdm(range(1, np.shape(signals)[1])):\n",
        "\n",
        "    new_q = curr_q + dt * (1/tau) * (curr_f/rho * (1-np.power((1-rho), (1/curr_f))) - np.power(curr_v, (1/alpha) - 1) * curr_q)\n",
        "\n",
        "    new_v = curr_v + dt * (1/tau) * (curr_f - np.power(curr_v, 1/alpha))\n",
        "\n",
        "    new_f = curr_f + dt * curr_s\n",
        "\n",
        "    new_s = curr_s + dt * (np.reshape(signals[:, i-1].copy(), (1, n)) - k * curr_s - gamma*(curr_f - 1))\n",
        "\n",
        "    y = V0 * (7*rho*(1-curr_q) + 2*(1-np.divide(curr_q, curr_v)) + (2*rho-0.2)*(1 - curr_v))\n",
        "\n",
        "    curr_q = new_q\n",
        "    curr_v = new_v\n",
        "    curr_f = new_f\n",
        "    curr_s = new_s\n",
        "\n",
        "    BOLD[:, i] = np.reshape(y, (n))\n",
        "\n",
        "  return BOLD\n",
        "\n",
        "\n",
        "def bold_rs_pipeline(bold_sig, dt, fs):\n",
        "\n",
        "  '''\n",
        "  Takes np.array of BOLD signals with shape [node, step] and treats it for FC analysis.\n",
        "  Pipeline based on Cabral et al. 2011 Neuroimage and Deco et al 2021 Science Advances\n",
        "\n",
        "  Args:\n",
        "    bold_sig (array): array with shape [time step, node] containing BOLD signals for all nodes\n",
        "    dt (float): time step of original signal (ms)\n",
        "  Returns:\n",
        "    processed_sig (array): resampled bold signal\n",
        "  '''\n",
        "\n",
        "  ns = bold_sig.shape[-1]\n",
        "  frs = 1/(0.72)\n",
        "  fs = 1e3/dt\n",
        "  nrs = int(fs/frs)\n",
        "  bdr = int(60 * fs) # Time to remove at the beginning and end of signal, to avoid boundary effects from the Balloon-Windkessel model\n",
        "\n",
        "  n_samples = int(frs * (bold_sig.shape[-1] - 2 * bdr) / fs)\n",
        "  treated_sig = np.zeros((bold_sig.shape[0], n_samples))\n",
        "\n",
        "  for n in range(bold_sig.shape[0]):\n",
        "      treated_sig[n, :] = sig.resample(bold_sig[n, bdr:-bdr], n_samples)\n",
        "      treated_sig[n, :] -= np.mean(treated_sig[n, :])\n",
        "\n",
        "  return treated_sig\n",
        "\n",
        "def bold_FC_pipeline(bold_sig, dt, fs):\n",
        "\n",
        "  '''\n",
        "  Takes np.array of BOLD signals with shape [node, step] and treats it for FC analysis.\n",
        "  Pipeline based on Cabral et al. 2011 Neuroimage and Deco et al 2021 Science Advances\n",
        "\n",
        "  Args:\n",
        "    bold_sig (array): array with shape [time step, node] containing BOLD signals for all nodes\n",
        "    dt (float): time step of original signal (ms)\n",
        "  Returns:\n",
        "    processed_sig (array): resampled bold signal\n",
        "  '''\n",
        "\n",
        "  ns = bold_sig.shape[-1]\n",
        "  frs = 1/(0.72)\n",
        "  fs = 1e3/dt\n",
        "  nrs = int(fs/frs)\n",
        "  bdr = int(60 * fs) # Time to remove at the beginning and end of signal, to avoid boundary effects from the Balloon-Windkessel model\n",
        "\n",
        "  n_samples = int(frs * (bold_sig.shape[-1] - 2 * bdr) / fs)\n",
        "  treated_sig = np.zeros((bold_sig.shape[0], n_samples))\n",
        "\n",
        "  for n in range(bold_sig.shape[0]):\n",
        "      treated_sig[n, :] = sig.resample(bold_sig[n, bdr:-bdr], n_samples)\n",
        "\n",
        "  b, a = sig.butter(2, [0.008, 0.08], btype = 'band', output = 'ba', fs = frs)\n",
        "\n",
        "  treated_sig = sig.filtfilt(b, a, treated_sig, axis = -1)\n",
        "\n",
        "  return treated_sig\n",
        "\n",
        "def plot_BOLD(BOLD, n = 10, fs = 0.5):\n",
        "\n",
        "  '''\n",
        "  Plots BOLD signal for first n nodes.\n",
        "\n",
        "  Args:\n",
        "    BOLD (array): processed BOLD signal with shape [node, sample]\n",
        "    T_sig (float): duration of recording\n",
        "    n (int): number of nodes to be shown\n",
        "    fs (float): sampling frequency of signal\n",
        "  '''\n",
        "\n",
        "  plt.figure(figsize=(12, 6))\n",
        "  plt.plot(np.arange(0, BOLD.shape[-1])/fs, BOLD[:n, :].T + np.r_[:n], color = 'k')\n",
        "  for i in range(n):\n",
        "    plt.axhline(y = i, color = 'k', alpha = 0.4)\n",
        "  plt.yticks([i for i in range(n)], ['Node {}'.format(i) for i in range(n)], fontsize = 14)\n",
        "  plt.xlabel('Time (s)', fontsize = 14)\n",
        "  plt.ylim([-1, n])\n",
        "  plt.title('BOLD Signal', fontsize = 14)\n",
        "  plt.tight_layout()\n",
        "  plt.show()\n",
        "\n",
        "def plot_BOLD_standardized(BOLD, n = 10, fs = 0.5):\n",
        "\n",
        "  '''\n",
        "  Plots BOLD signal for first n nodes.\n",
        "\n",
        "  Args:\n",
        "    BOLD (array): processed BOLD signal with shape [node, sample]\n",
        "    T_sig (float): duration of recording\n",
        "    n (int): number of nodes to be shown\n",
        "    fs (float): sampling frequency of signal\n",
        "  '''\n",
        "\n",
        "  BOLD_norm = BOLD.copy()\n",
        "  for i in range(BOLD.shape[0]):\n",
        "    BOLD_norm[i, :] = (BOLD[i, :] - np.mean(BOLD[i, :])) / np.std(BOLD[i, :])\n",
        "\n",
        "  plt.figure(figsize=(12, 6))\n",
        "  plt.plot(np.arange(0, BOLD_norm.shape[-1])/fs, BOLD_norm[:n, :].T / 3 + np.r_[:n], color = 'k')\n",
        "  for i in range(n):\n",
        "    plt.axhline(y = i, color = 'k', alpha = 0.4)\n",
        "  plt.yticks([i for i in range(n)], ['Node {}'.format(i) for i in range(n)], fontsize = 14)\n",
        "  plt.xlabel('Time (s)', fontsize = 14)\n",
        "  plt.ylim([-1, n])\n",
        "  plt.title('BOLD Signal - Standardized', fontsize = 14)\n",
        "  plt.tight_layout()\n",
        "  plt.show()"
      ]
    },
    {
      "cell_type": "markdown",
      "metadata": {
        "id": "1VQ65O-z6dgw"
      },
      "source": [
        "# Setup"
      ]
    },
    {
      "cell_type": "code",
      "execution_count": null,
      "metadata": {
        "colab": {
          "background_save": true
        },
        "id": "l8-hKu4Njq0w"
      },
      "outputs": [],
      "source": []
    }
  ],
  "metadata": {
    "colab": {
      "collapsed_sections": [
        "hBvWCMeH4BOo"
      ],
      "provenance": [],
      "include_colab_link": true
    },
    "kernelspec": {
      "display_name": "Python 3",
      "name": "python3"
    },
    "language_info": {
      "name": "python"
    }
  },
  "nbformat": 4,
  "nbformat_minor": 0
}